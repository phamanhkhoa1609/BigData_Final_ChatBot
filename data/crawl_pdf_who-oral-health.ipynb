{
 "cells": [
  {
   "cell_type": "code",
   "execution_count": 2,
   "id": "be174903",
   "metadata": {},
   "outputs": [
    {
     "name": "stdout",
     "output_type": "stream",
     "text": [
      "Requirement already satisfied: requests in c:\\users\\dell precision 5540\\appdata\\local\\programs\\python\\python312\\lib\\site-packages (2.32.3)\n",
      "Requirement already satisfied: beautifulsoup4 in c:\\users\\dell precision 5540\\appdata\\local\\programs\\python\\python312\\lib\\site-packages (4.13.3)\n",
      "Collecting reportlab\n",
      "  Downloading reportlab-4.4.0-py3-none-any.whl.metadata (1.8 kB)\n",
      "Requirement already satisfied: charset-normalizer<4,>=2 in c:\\users\\dell precision 5540\\appdata\\local\\programs\\python\\python312\\lib\\site-packages (from requests) (3.3.2)\n",
      "Requirement already satisfied: idna<4,>=2.5 in c:\\users\\dell precision 5540\\appdata\\local\\programs\\python\\python312\\lib\\site-packages (from requests) (3.7)\n",
      "Requirement already satisfied: urllib3<3,>=1.21.1 in c:\\users\\dell precision 5540\\appdata\\local\\programs\\python\\python312\\lib\\site-packages (from requests) (2.2.2)\n",
      "Requirement already satisfied: certifi>=2017.4.17 in c:\\users\\dell precision 5540\\appdata\\local\\programs\\python\\python312\\lib\\site-packages (from requests) (2024.7.4)\n",
      "Requirement already satisfied: soupsieve>1.2 in c:\\users\\dell precision 5540\\appdata\\local\\programs\\python\\python312\\lib\\site-packages (from beautifulsoup4) (2.6)\n",
      "Requirement already satisfied: typing-extensions>=4.0.0 in c:\\users\\dell precision 5540\\appdata\\local\\programs\\python\\python312\\lib\\site-packages (from beautifulsoup4) (4.12.2)\n",
      "Requirement already satisfied: pillow>=9.0.0 in c:\\users\\dell precision 5540\\appdata\\local\\programs\\python\\python312\\lib\\site-packages (from reportlab) (10.4.0)\n",
      "Collecting chardet (from reportlab)\n",
      "  Downloading chardet-5.2.0-py3-none-any.whl.metadata (3.4 kB)\n",
      "Downloading reportlab-4.4.0-py3-none-any.whl (2.0 MB)\n",
      "   ---------------------------------------- 0.0/2.0 MB ? eta -:--:--\n",
      "   ---------------------------------------- 0.0/2.0 MB ? eta -:--:--\n",
      "   ---------------------------------------- 0.0/2.0 MB ? eta -:--:--\n",
      "    --------------------------------------- 0.0/2.0 MB 326.8 kB/s eta 0:00:06\n",
      "   -- ------------------------------------- 0.1/2.0 MB 717.5 kB/s eta 0:00:03\n",
      "   -- ------------------------------------- 0.1/2.0 MB 774.0 kB/s eta 0:00:03\n",
      "   -- ------------------------------------- 0.1/2.0 MB 774.0 kB/s eta 0:00:03\n",
      "   ----- ---------------------------------- 0.2/2.0 MB 793.0 kB/s eta 0:00:03\n",
      "   -------- ------------------------------- 0.4/2.0 MB 1.1 MB/s eta 0:00:02\n",
      "   ---------- ----------------------------- 0.5/2.0 MB 1.4 MB/s eta 0:00:02\n",
      "   ------------- -------------------------- 0.7/2.0 MB 1.5 MB/s eta 0:00:01\n",
      "   ---------------- ----------------------- 0.8/2.0 MB 1.7 MB/s eta 0:00:01\n",
      "   ------------------------- -------------- 1.2/2.0 MB 2.3 MB/s eta 0:00:01\n",
      "   ---------------------------- ----------- 1.4/2.0 MB 2.4 MB/s eta 0:00:01\n",
      "   ----------------------------- ---------- 1.5/2.0 MB 2.5 MB/s eta 0:00:01\n",
      "   ----------------------------------- ---- 1.7/2.0 MB 2.6 MB/s eta 0:00:01\n",
      "   ---------------------------------------- 2.0/2.0 MB 2.8 MB/s eta 0:00:00\n",
      "Downloading chardet-5.2.0-py3-none-any.whl (199 kB)\n",
      "   ---------------------------------------- 0.0/199.4 kB ? eta -:--:--\n",
      "   ------------------------------ --------- 153.6/199.4 kB 9.0 MB/s eta 0:00:01\n",
      "   ------------------------------ --------- 153.6/199.4 kB 9.0 MB/s eta 0:00:01\n",
      "   ------------------------------ --------- 153.6/199.4 kB 9.0 MB/s eta 0:00:01\n",
      "   ---------------------------------------- 199.4/199.4 kB 1.2 MB/s eta 0:00:00\n",
      "Installing collected packages: chardet, reportlab\n",
      "Successfully installed chardet-5.2.0 reportlab-4.4.0\n"
     ]
    },
    {
     "name": "stderr",
     "output_type": "stream",
     "text": [
      "\n",
      "[notice] A new release of pip is available: 24.0 -> 25.0.1\n",
      "[notice] To update, run: python.exe -m pip install --upgrade pip\n"
     ]
    }
   ],
   "source": [
    "!pip install requests beautifulsoup4 reportlab"
   ]
  },
  {
   "cell_type": "code",
   "execution_count": 3,
   "id": "919ff7ab",
   "metadata": {},
   "outputs": [
    {
     "name": "stdout",
     "output_type": "stream",
     "text": [
      "Đã tạo file who_oral_health.pdf\n"
     ]
    }
   ],
   "source": [
    "import requests\n",
    "from bs4 import BeautifulSoup\n",
    "from reportlab.lib.pagesizes import letter\n",
    "from reportlab.platypus import SimpleDocTemplate, Paragraph\n",
    "from reportlab.lib.styles import getSampleStyleSheet\n",
    "\n",
    "# Cào dữ liệu từ WHO Oral Health Fact Sheet\n",
    "url = \"https://www.who.int/news-room/fact-sheets/detail/oral-health\"\n",
    "response = requests.get(url)\n",
    "soup = BeautifulSoup(response.content, \"html.parser\")\n",
    "\n",
    "# Lấy văn bản từ các thẻ <p> (chứa nội dung chính)\n",
    "paragraphs = soup.find_all(\"p\")\n",
    "text = \" \".join([para.get_text(strip=True) for para in paragraphs])\n",
    "\n",
    "# Tạo PDF\n",
    "pdf_file = \"who_oral_health.pdf\"\n",
    "doc = SimpleDocTemplate(pdf_file, pagesize=letter)\n",
    "styles = getSampleStyleSheet()\n",
    "story = [Paragraph(text, styles[\"Normal\"])]\n",
    "doc.build(story)\n",
    "print(f\"Đã tạo file {pdf_file}\")"
   ]
  }
 ],
 "metadata": {
  "kernelspec": {
   "display_name": "Python 3",
   "language": "python",
   "name": "python3"
  },
  "language_info": {
   "codemirror_mode": {
    "name": "ipython",
    "version": 3
   },
   "file_extension": ".py",
   "mimetype": "text/x-python",
   "name": "python",
   "nbconvert_exporter": "python",
   "pygments_lexer": "ipython3",
   "version": "3.12.4"
  }
 },
 "nbformat": 4,
 "nbformat_minor": 5
}
